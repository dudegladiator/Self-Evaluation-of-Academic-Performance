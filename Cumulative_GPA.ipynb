{
  "cells": [
    {
      "cell_type": "code",
      "execution_count": 1,
      "metadata": {
        "id": "ouPy1uGQb20C"
      },
      "outputs": [],
      "source": [
        "#Importing Libraries\n",
        "import numpy as np\n",
        "import pandas as pd\n",
        "import matplotlib.pyplot as plt\n",
        "import seaborn as sns2\n",
        "from sklearn.linear_model import LinearRegression\n",
        "import datetime"
      ]
    },
    {
      "cell_type": "code",
      "source": [
        "from scipy import stats\n",
        "from scipy.stats import ttest_ind\n",
        "from sklearn.preprocessing import StandardScaler"
      ],
      "metadata": {
        "id": "ro7BTlpC_zgs"
      },
      "execution_count": 6,
      "outputs": []
    },
    {
      "cell_type": "markdown",
      "source": [
        "Upload AllSlopes.csv file"
      ],
      "metadata": {
        "id": "m7Xsh5bxD1eW"
      }
    },
    {
      "cell_type": "code",
      "source": [
        "AllSlopes=pd.read_csv(\"/content/AllSlopes.csv\")\n",
        "AllSlopes.set_index('uids', inplace=True)"
      ],
      "metadata": {
        "id": "DQx8GWiuVYxq"
      },
      "execution_count": 3,
      "outputs": []
    },
    {
      "cell_type": "markdown",
      "source": [
        "###K fold Cross Validation"
      ],
      "metadata": {
        "id": "lkU4TQIHo4jo"
      }
    },
    {
      "cell_type": "code",
      "source": [
        "columns=AllSlopes.columns.tolist()\n",
        "for i,column in enumerate(columns):\n",
        "  if i>1:\n",
        "    if(abs(AllSlopes['gpa_all'].corr(AllSlopes[column]))>0.5 and ttest_ind(AllSlopes[column],AllSlopes['gpa_all']).pvalue<0.05):\n",
        "      pass\n",
        "      # print(str(column)+\":  \"+str(AllSlopes['gpa_all'].corr(AllSlopes[column])))\n",
        "      # print(str(column)+\":  \"+str(ttest_ind(AllSlopes[column],AllSlopes['gpa_all']).pvalue))\n",
        "    else :\n",
        "      AllSlopes.drop(column,axis=1,inplace=True)\n",
        "\n",
        "allSlopes = AllSlopes.fillna(10)\n",
        "X=allSlopes.drop(['gpa_all','Spring_gpa'],axis=1)\n",
        "y=allSlopes['gpa_all']"
      ],
      "metadata": {
        "id": "Mt41Cs0Bo4D5"
      },
      "execution_count": 4,
      "outputs": []
    },
    {
      "cell_type": "code",
      "source": [
        "from sklearn.linear_model import Ridge\n",
        "model = Ridge(alpha=0.1)\n",
        "\n",
        "scaler = StandardScaler()\n",
        "from sklearn.model_selection import cross_val_predict, KFold\n",
        "kf = KFold(n_splits=5, shuffle=True, random_state=75)\n",
        "scores=cross_val_predict(model,scaler.fit_transform(X),y,cv=kf)\n",
        "from sklearn.metrics import r2_score,mean_squared_error,mean_absolute_error\n",
        "print(\"R2 Score:\",r2_score(y,scores))\n",
        "# print(\"Mean Squared Error:\",mean_squared_error(y,scores))\n",
        "print(\"Mean Absolute Error:\",mean_absolute_error(y,scores))"
      ],
      "metadata": {
        "colab": {
          "base_uri": "https://localhost:8080/"
        },
        "id": "M5divOR3o4AI",
        "outputId": "6849d674-2f6c-491d-983a-607f9da945dd"
      },
      "execution_count": 7,
      "outputs": [
        {
          "output_type": "stream",
          "name": "stdout",
          "text": [
            "R2 Score: 0.38194461567626614\n",
            "Mean Absolute Error: 0.2553240996964607\n"
          ]
        }
      ]
    },
    {
      "cell_type": "code",
      "source": [
        "from sklearn.svm import SVR\n",
        "\n",
        "# Create a dataset (X) and corresponding labels (y)\n",
        "# Replace this with your actual dataset and labels\n",
        "\n",
        "# Initialize the SVR model\n",
        "model = SVR(kernel='linear', C=1.0, epsilon=0.1)  # You can adjust kernel, C, and epsilon values\n",
        "\n",
        "scaler = StandardScaler()\n",
        "from sklearn.model_selection import cross_val_predict, KFold\n",
        "kf = KFold(n_splits=5, shuffle=True, random_state=75)\n",
        "scores=cross_val_predict(model,scaler.fit_transform(X),y,cv=kf)\n",
        "from sklearn.metrics import r2_score,mean_squared_error,mean_absolute_error\n",
        "print(\"R2 Score:\",r2_score(y,scores))\n",
        "# print(\"Mean Squared Error:\",mean_squared_error(y,scores))\n",
        "print(\"Mean Absolute Error:\",mean_absolute_error(y,scores))"
      ],
      "metadata": {
        "colab": {
          "base_uri": "https://localhost:8080/"
        },
        "id": "mZRCZBY3o38w",
        "outputId": "c0a4e10e-6bc7-4c64-e5da-407406f27e1a"
      },
      "execution_count": 8,
      "outputs": [
        {
          "output_type": "stream",
          "name": "stdout",
          "text": [
            "R2 Score: 0.3247559163453264\n",
            "Mean Absolute Error: 0.2505613041717216\n"
          ]
        }
      ]
    },
    {
      "cell_type": "code",
      "source": [
        "from sklearn.linear_model import Lasso\n",
        "lasso_model = Lasso()\n",
        "\n",
        "scaler = StandardScaler()\n",
        "from sklearn.model_selection import cross_val_predict, KFold\n",
        "kf = KFold(n_splits=5, shuffle=True, random_state=76)\n",
        "scores=cross_val_predict(model,scaler.fit_transform(X),y,cv=kf)\n",
        "from sklearn.metrics import r2_score,mean_squared_error,mean_absolute_error\n",
        "print(\"R2 Score:\",r2_score(y,scores))\n",
        "# print(\"Mean Squared Error:\",mean_squared_error(y,scores))\n",
        "print(\"Mean Absolute Error:\",mean_absolute_error(y,scores))"
      ],
      "metadata": {
        "colab": {
          "base_uri": "https://localhost:8080/"
        },
        "id": "AB8-mDNSpIDb",
        "outputId": "6cd6d01d-c13c-4b65-a404-7e56942b284c"
      },
      "execution_count": 15,
      "outputs": [
        {
          "output_type": "stream",
          "name": "stdout",
          "text": [
            "R2 Score: 0.2982613555884899\n",
            "Mean Absolute Error: 0.25412845683900426\n"
          ]
        }
      ]
    },
    {
      "cell_type": "markdown",
      "source": [
        "##Using Lasso Regression"
      ],
      "metadata": {
        "id": "qUWyrLHm5Xbj"
      }
    },
    {
      "cell_type": "code",
      "source": [
        "columns=AllSlopes.columns.tolist()\n",
        "for i,column in enumerate(columns):\n",
        "  if i>1:\n",
        "    if(abs(AllSlopes['gpa_all'].corr(AllSlopes[column]))>0.25 and stats.ttest_ind(AllSlopes[column],AllSlopes['gpa_all']).pvalue<0.05):\n",
        "      print(\"Correlation: \"+str(column)+\":  \"+str(AllSlopes['gpa_all'].corr(AllSlopes[column])))\n",
        "      print(\"P_value: \"+str(column)+\":  \"+str(stats.ttest_ind(AllSlopes[column],AllSlopes['gpa_all']).pvalue))\n",
        "    else :\n",
        "      AllSlopes.drop(column,axis=1,inplace=True)"
      ],
      "metadata": {
        "id": "LmjAqqRNY-PW",
        "colab": {
          "base_uri": "https://localhost:8080/"
        },
        "outputId": "73e68315-07c5-4d9b-e1d7-ea6582d4bee3"
      },
      "execution_count": 16,
      "outputs": [
        {
          "output_type": "stream",
          "name": "stdout",
          "text": [
            "Correlation: SlopeActivityNightPre:  0.5469084283339362\n",
            "P_value: SlopeActivityNightPre:  6.232318685665857e-48\n",
            "Correlation: SlopeSleepTerm:  0.5173872500551344\n",
            "P_value: SlopeSleepTerm:  6.232319210547135e-48\n"
          ]
        }
      ]
    },
    {
      "cell_type": "code",
      "source": [
        "allSlopes = AllSlopes.fillna(10)\n",
        "X=allSlopes.drop(['gpa_all','Spring_gpa'],axis=1)\n",
        "y=allSlopes['gpa_all']"
      ],
      "metadata": {
        "id": "WtBUovMWVYxr"
      },
      "execution_count": 17,
      "outputs": []
    },
    {
      "cell_type": "code",
      "execution_count": 18,
      "metadata": {
        "id": "hwEldEdrpjb8"
      },
      "outputs": [],
      "source": [
        "from sklearn.model_selection import train_test_split\n",
        "from sklearn.linear_model import Lasso\n",
        "from sklearn.preprocessing import StandardScaler\n",
        "from sklearn.metrics import mean_squared_error\n",
        "from sklearn.metrics import mean_absolute_error"
      ]
    },
    {
      "cell_type": "code",
      "source": [
        "X_train, X_test, y_train, y_test = train_test_split(X, y, test_size=0.2, random_state=75)"
      ],
      "metadata": {
        "id": "hYqcerExVYxr"
      },
      "execution_count": 19,
      "outputs": []
    },
    {
      "cell_type": "code",
      "source": [
        "scaler = StandardScaler()\n",
        "X_train_scaled = scaler.fit_transform(X_train)\n",
        "X_test_scaled = scaler.transform(X_test)"
      ],
      "metadata": {
        "id": "Ao-hHpuiVYxs"
      },
      "execution_count": 20,
      "outputs": []
    },
    {
      "cell_type": "code",
      "source": [
        "# Lasso regression model\n",
        "lasso_model = Lasso(alpha=0.06)  # Set the regularization strength (alpha)\n",
        "0\n",
        "# Train the model\n",
        "lasso_model.fit(X_train_scaled, y_train)"
      ],
      "metadata": {
        "colab": {
          "base_uri": "https://localhost:8080/",
          "height": 74
        },
        "outputId": "9a76af71-3d8a-4256-ef83-ecf3fd866e62",
        "id": "89mXKsF5VYxs"
      },
      "execution_count": 21,
      "outputs": [
        {
          "output_type": "execute_result",
          "data": {
            "text/plain": [
              "Lasso(alpha=0.06)"
            ],
            "text/html": [
              "<style>#sk-container-id-1 {color: black;background-color: white;}#sk-container-id-1 pre{padding: 0;}#sk-container-id-1 div.sk-toggleable {background-color: white;}#sk-container-id-1 label.sk-toggleable__label {cursor: pointer;display: block;width: 100%;margin-bottom: 0;padding: 0.3em;box-sizing: border-box;text-align: center;}#sk-container-id-1 label.sk-toggleable__label-arrow:before {content: \"▸\";float: left;margin-right: 0.25em;color: #696969;}#sk-container-id-1 label.sk-toggleable__label-arrow:hover:before {color: black;}#sk-container-id-1 div.sk-estimator:hover label.sk-toggleable__label-arrow:before {color: black;}#sk-container-id-1 div.sk-toggleable__content {max-height: 0;max-width: 0;overflow: hidden;text-align: left;background-color: #f0f8ff;}#sk-container-id-1 div.sk-toggleable__content pre {margin: 0.2em;color: black;border-radius: 0.25em;background-color: #f0f8ff;}#sk-container-id-1 input.sk-toggleable__control:checked~div.sk-toggleable__content {max-height: 200px;max-width: 100%;overflow: auto;}#sk-container-id-1 input.sk-toggleable__control:checked~label.sk-toggleable__label-arrow:before {content: \"▾\";}#sk-container-id-1 div.sk-estimator input.sk-toggleable__control:checked~label.sk-toggleable__label {background-color: #d4ebff;}#sk-container-id-1 div.sk-label input.sk-toggleable__control:checked~label.sk-toggleable__label {background-color: #d4ebff;}#sk-container-id-1 input.sk-hidden--visually {border: 0;clip: rect(1px 1px 1px 1px);clip: rect(1px, 1px, 1px, 1px);height: 1px;margin: -1px;overflow: hidden;padding: 0;position: absolute;width: 1px;}#sk-container-id-1 div.sk-estimator {font-family: monospace;background-color: #f0f8ff;border: 1px dotted black;border-radius: 0.25em;box-sizing: border-box;margin-bottom: 0.5em;}#sk-container-id-1 div.sk-estimator:hover {background-color: #d4ebff;}#sk-container-id-1 div.sk-parallel-item::after {content: \"\";width: 100%;border-bottom: 1px solid gray;flex-grow: 1;}#sk-container-id-1 div.sk-label:hover label.sk-toggleable__label {background-color: #d4ebff;}#sk-container-id-1 div.sk-serial::before {content: \"\";position: absolute;border-left: 1px solid gray;box-sizing: border-box;top: 0;bottom: 0;left: 50%;z-index: 0;}#sk-container-id-1 div.sk-serial {display: flex;flex-direction: column;align-items: center;background-color: white;padding-right: 0.2em;padding-left: 0.2em;position: relative;}#sk-container-id-1 div.sk-item {position: relative;z-index: 1;}#sk-container-id-1 div.sk-parallel {display: flex;align-items: stretch;justify-content: center;background-color: white;position: relative;}#sk-container-id-1 div.sk-item::before, #sk-container-id-1 div.sk-parallel-item::before {content: \"\";position: absolute;border-left: 1px solid gray;box-sizing: border-box;top: 0;bottom: 0;left: 50%;z-index: -1;}#sk-container-id-1 div.sk-parallel-item {display: flex;flex-direction: column;z-index: 1;position: relative;background-color: white;}#sk-container-id-1 div.sk-parallel-item:first-child::after {align-self: flex-end;width: 50%;}#sk-container-id-1 div.sk-parallel-item:last-child::after {align-self: flex-start;width: 50%;}#sk-container-id-1 div.sk-parallel-item:only-child::after {width: 0;}#sk-container-id-1 div.sk-dashed-wrapped {border: 1px dashed gray;margin: 0 0.4em 0.5em 0.4em;box-sizing: border-box;padding-bottom: 0.4em;background-color: white;}#sk-container-id-1 div.sk-label label {font-family: monospace;font-weight: bold;display: inline-block;line-height: 1.2em;}#sk-container-id-1 div.sk-label-container {text-align: center;}#sk-container-id-1 div.sk-container {/* jupyter's `normalize.less` sets `[hidden] { display: none; }` but bootstrap.min.css set `[hidden] { display: none !important; }` so we also need the `!important` here to be able to override the default hidden behavior on the sphinx rendered scikit-learn.org. See: https://github.com/scikit-learn/scikit-learn/issues/21755 */display: inline-block !important;position: relative;}#sk-container-id-1 div.sk-text-repr-fallback {display: none;}</style><div id=\"sk-container-id-1\" class=\"sk-top-container\"><div class=\"sk-text-repr-fallback\"><pre>Lasso(alpha=0.06)</pre><b>In a Jupyter environment, please rerun this cell to show the HTML representation or trust the notebook. <br />On GitHub, the HTML representation is unable to render, please try loading this page with nbviewer.org.</b></div><div class=\"sk-container\" hidden><div class=\"sk-item\"><div class=\"sk-estimator sk-toggleable\"><input class=\"sk-toggleable__control sk-hidden--visually\" id=\"sk-estimator-id-1\" type=\"checkbox\" checked><label for=\"sk-estimator-id-1\" class=\"sk-toggleable__label sk-toggleable__label-arrow\">Lasso</label><div class=\"sk-toggleable__content\"><pre>Lasso(alpha=0.06)</pre></div></div></div></div></div>"
            ]
          },
          "metadata": {},
          "execution_count": 21
        }
      ]
    },
    {
      "cell_type": "code",
      "source": [
        "# Make predictions\n",
        "y_pred = lasso_model.predict(X_test_scaled)\n",
        "\n",
        "# Calculate Mean Squared Error (MSE) to evaluate the model\n",
        "mse = mean_squared_error(y_test, y_pred)\n",
        "print(\"Mean Squared Error:\", mse)\n",
        "\n",
        "mae = mean_absolute_error(y_test,y_pred)\n",
        "print(\"Mean Absolute Error:\", mae)\n",
        "\n",
        "# Print the coefficients of the features\n",
        "print(\"Coefficients:\", lasso_model.coef_)"
      ],
      "metadata": {
        "colab": {
          "base_uri": "https://localhost:8080/"
        },
        "outputId": "703d1589-a695-4d2d-c3e0-218da4690474",
        "id": "vRmqsmDeVYxs"
      },
      "execution_count": 22,
      "outputs": [
        {
          "output_type": "stream",
          "name": "stdout",
          "text": [
            "Mean Squared Error: 0.03920534122264686\n",
            "Mean Absolute Error: 0.15094022303781954\n",
            "Coefficients: [0.12274611 0.12862264]\n"
          ]
        }
      ]
    },
    {
      "cell_type": "code",
      "source": [
        "print(y_pred)\n",
        "print(y_test.tolist())"
      ],
      "metadata": {
        "colab": {
          "base_uri": "https://localhost:8080/"
        },
        "outputId": "ad48b4c8-e105-4ce6-c9a3-707f999a67bd",
        "id": "PCvPZSqBVYxs"
      },
      "execution_count": 23,
      "outputs": [
        {
          "output_type": "stream",
          "name": "stdout",
          "text": [
            "[3.79802812 3.77229844 3.51758182 3.29138691 3.41378347 3.39995958]\n",
            "[3.889, 3.679, 3.505, 3.652, 3.705, 3.343]\n"
          ]
        }
      ]
    },
    {
      "cell_type": "markdown",
      "source": [
        "## Using Ridge Regression"
      ],
      "metadata": {
        "id": "wNaKj4Jk5bqZ"
      }
    },
    {
      "cell_type": "code",
      "source": [
        "columns=AllSlopes.columns.tolist()\n",
        "for i,column in enumerate(columns):\n",
        "  if i>1:\n",
        "    if(abs(AllSlopes['gpa_all'].corr(AllSlopes[column]))>0.5 and stats.ttest_ind(AllSlopes[column],AllSlopes['gpa_all']).pvalue<0.05):\n",
        "      print(\"Correlation: \"+str(column)+\":  \"+str(AllSlopes['gpa_all'].corr(AllSlopes[column])))\n",
        "      print(\"P_value: \"+str(column)+\":  \"+str(stats.ttest_ind(AllSlopes[column],AllSlopes['gpa_all']).pvalue))\n",
        "    else :\n",
        "      AllSlopes.drop(column,axis=1,inplace=True)"
      ],
      "metadata": {
        "id": "96QRuNWke5Pl",
        "colab": {
          "base_uri": "https://localhost:8080/"
        },
        "outputId": "8f3ffe7b-ea33-41fb-c160-1d4a5d76bad6"
      },
      "execution_count": 24,
      "outputs": [
        {
          "output_type": "stream",
          "name": "stdout",
          "text": [
            "Correlation: SlopeActivityNightPre:  0.5469084283339362\n",
            "P_value: SlopeActivityNightPre:  6.232318685665857e-48\n",
            "Correlation: SlopeSleepTerm:  0.5173872500551344\n",
            "P_value: SlopeSleepTerm:  6.232319210547135e-48\n"
          ]
        }
      ]
    },
    {
      "cell_type": "code",
      "source": [
        "allSlopes = AllSlopes.fillna(10)\n",
        "X=allSlopes.drop(['gpa_all','Spring_gpa'],axis=1)\n",
        "y=allSlopes['gpa_all']"
      ],
      "metadata": {
        "id": "Jzu56X7Xe5M4"
      },
      "execution_count": 25,
      "outputs": []
    },
    {
      "cell_type": "code",
      "source": [
        "from sklearn.model_selection import train_test_split\n",
        "from sklearn.linear_model import Lasso\n",
        "from sklearn.preprocessing import StandardScaler\n",
        "from sklearn.metrics import mean_squared_error\n",
        "from sklearn.metrics import mean_absolute_error"
      ],
      "metadata": {
        "id": "W1veSuIBe5J-"
      },
      "execution_count": 26,
      "outputs": []
    },
    {
      "cell_type": "code",
      "source": [
        "X_train, X_test, y_train, y_test = train_test_split(X, y, test_size=0.2, random_state=75)"
      ],
      "metadata": {
        "id": "iabFcvpCe5HG"
      },
      "execution_count": 27,
      "outputs": []
    },
    {
      "cell_type": "code",
      "source": [
        "scaler = StandardScaler()\n",
        "X_train_scaled = scaler.fit_transform(X_train)\n",
        "X_test_scaled = scaler.transform(X_test)"
      ],
      "metadata": {
        "id": "KUVSjnSD7Oeu"
      },
      "execution_count": 28,
      "outputs": []
    },
    {
      "cell_type": "code",
      "source": [
        "from sklearn.linear_model import Ridge\n",
        "\n",
        "ridge_model = Ridge(alpha=0.1)  # Set the regularization strength (alpha)\n",
        "# Train the model\n",
        "ridge_model.fit(X_train_scaled, y_train)"
      ],
      "metadata": {
        "colab": {
          "base_uri": "https://localhost:8080/",
          "height": 74
        },
        "id": "766B81rn6mn5",
        "outputId": "75e68e5e-f808-4a3c-9607-9c6b12019382"
      },
      "execution_count": 29,
      "outputs": [
        {
          "output_type": "execute_result",
          "data": {
            "text/plain": [
              "Ridge(alpha=0.1)"
            ],
            "text/html": [
              "<style>#sk-container-id-2 {color: black;background-color: white;}#sk-container-id-2 pre{padding: 0;}#sk-container-id-2 div.sk-toggleable {background-color: white;}#sk-container-id-2 label.sk-toggleable__label {cursor: pointer;display: block;width: 100%;margin-bottom: 0;padding: 0.3em;box-sizing: border-box;text-align: center;}#sk-container-id-2 label.sk-toggleable__label-arrow:before {content: \"▸\";float: left;margin-right: 0.25em;color: #696969;}#sk-container-id-2 label.sk-toggleable__label-arrow:hover:before {color: black;}#sk-container-id-2 div.sk-estimator:hover label.sk-toggleable__label-arrow:before {color: black;}#sk-container-id-2 div.sk-toggleable__content {max-height: 0;max-width: 0;overflow: hidden;text-align: left;background-color: #f0f8ff;}#sk-container-id-2 div.sk-toggleable__content pre {margin: 0.2em;color: black;border-radius: 0.25em;background-color: #f0f8ff;}#sk-container-id-2 input.sk-toggleable__control:checked~div.sk-toggleable__content {max-height: 200px;max-width: 100%;overflow: auto;}#sk-container-id-2 input.sk-toggleable__control:checked~label.sk-toggleable__label-arrow:before {content: \"▾\";}#sk-container-id-2 div.sk-estimator input.sk-toggleable__control:checked~label.sk-toggleable__label {background-color: #d4ebff;}#sk-container-id-2 div.sk-label input.sk-toggleable__control:checked~label.sk-toggleable__label {background-color: #d4ebff;}#sk-container-id-2 input.sk-hidden--visually {border: 0;clip: rect(1px 1px 1px 1px);clip: rect(1px, 1px, 1px, 1px);height: 1px;margin: -1px;overflow: hidden;padding: 0;position: absolute;width: 1px;}#sk-container-id-2 div.sk-estimator {font-family: monospace;background-color: #f0f8ff;border: 1px dotted black;border-radius: 0.25em;box-sizing: border-box;margin-bottom: 0.5em;}#sk-container-id-2 div.sk-estimator:hover {background-color: #d4ebff;}#sk-container-id-2 div.sk-parallel-item::after {content: \"\";width: 100%;border-bottom: 1px solid gray;flex-grow: 1;}#sk-container-id-2 div.sk-label:hover label.sk-toggleable__label {background-color: #d4ebff;}#sk-container-id-2 div.sk-serial::before {content: \"\";position: absolute;border-left: 1px solid gray;box-sizing: border-box;top: 0;bottom: 0;left: 50%;z-index: 0;}#sk-container-id-2 div.sk-serial {display: flex;flex-direction: column;align-items: center;background-color: white;padding-right: 0.2em;padding-left: 0.2em;position: relative;}#sk-container-id-2 div.sk-item {position: relative;z-index: 1;}#sk-container-id-2 div.sk-parallel {display: flex;align-items: stretch;justify-content: center;background-color: white;position: relative;}#sk-container-id-2 div.sk-item::before, #sk-container-id-2 div.sk-parallel-item::before {content: \"\";position: absolute;border-left: 1px solid gray;box-sizing: border-box;top: 0;bottom: 0;left: 50%;z-index: -1;}#sk-container-id-2 div.sk-parallel-item {display: flex;flex-direction: column;z-index: 1;position: relative;background-color: white;}#sk-container-id-2 div.sk-parallel-item:first-child::after {align-self: flex-end;width: 50%;}#sk-container-id-2 div.sk-parallel-item:last-child::after {align-self: flex-start;width: 50%;}#sk-container-id-2 div.sk-parallel-item:only-child::after {width: 0;}#sk-container-id-2 div.sk-dashed-wrapped {border: 1px dashed gray;margin: 0 0.4em 0.5em 0.4em;box-sizing: border-box;padding-bottom: 0.4em;background-color: white;}#sk-container-id-2 div.sk-label label {font-family: monospace;font-weight: bold;display: inline-block;line-height: 1.2em;}#sk-container-id-2 div.sk-label-container {text-align: center;}#sk-container-id-2 div.sk-container {/* jupyter's `normalize.less` sets `[hidden] { display: none; }` but bootstrap.min.css set `[hidden] { display: none !important; }` so we also need the `!important` here to be able to override the default hidden behavior on the sphinx rendered scikit-learn.org. See: https://github.com/scikit-learn/scikit-learn/issues/21755 */display: inline-block !important;position: relative;}#sk-container-id-2 div.sk-text-repr-fallback {display: none;}</style><div id=\"sk-container-id-2\" class=\"sk-top-container\"><div class=\"sk-text-repr-fallback\"><pre>Ridge(alpha=0.1)</pre><b>In a Jupyter environment, please rerun this cell to show the HTML representation or trust the notebook. <br />On GitHub, the HTML representation is unable to render, please try loading this page with nbviewer.org.</b></div><div class=\"sk-container\" hidden><div class=\"sk-item\"><div class=\"sk-estimator sk-toggleable\"><input class=\"sk-toggleable__control sk-hidden--visually\" id=\"sk-estimator-id-2\" type=\"checkbox\" checked><label for=\"sk-estimator-id-2\" class=\"sk-toggleable__label sk-toggleable__label-arrow\">Ridge</label><div class=\"sk-toggleable__content\"><pre>Ridge(alpha=0.1)</pre></div></div></div></div></div>"
            ]
          },
          "metadata": {},
          "execution_count": 29
        }
      ]
    },
    {
      "cell_type": "code",
      "source": [
        "# Make predictions\n",
        "y_pred = ridge_model.predict(X_test_scaled)\n",
        "\n",
        "# Calculate Mean Squared Error (MSE) to evaluate the model\n",
        "mse = mean_squared_error(y_test, y_pred)\n",
        "print(\"Mean Squared Error:\", mse)\n",
        "\n",
        "mae = mean_absolute_error(y_test,y_pred)\n",
        "print(\"Mean Absolute Error:\", mae)\n",
        "\n",
        "# Print the coefficients of the features\n",
        "print(\"Coefficients:\", ridge_model.coef_)"
      ],
      "metadata": {
        "colab": {
          "base_uri": "https://localhost:8080/"
        },
        "id": "3En-jpsV6mlx",
        "outputId": "55bc59d4-9263-43da-a8f8-961e3645ce87"
      },
      "execution_count": 30,
      "outputs": [
        {
          "output_type": "stream",
          "name": "stdout",
          "text": [
            "Mean Squared Error: 0.04973007722392376\n",
            "Mean Absolute Error: 0.18439329342286412\n",
            "Coefficients: [0.16994413 0.17578868]\n"
          ]
        }
      ]
    },
    {
      "cell_type": "markdown",
      "source": [
        "Cross Validation"
      ],
      "metadata": {
        "id": "cz0A5SvH6yaq"
      }
    },
    {
      "cell_type": "code",
      "source": [
        "from sklearn.model_selection import cross_val_predict, LeaveOneOut , KFold\n",
        "loo = LeaveOneOut()\n",
        "kf=KFold(n_splits=5,shuffle=True,random_state=1)\n",
        "scores=cross_val_predict(ridge_model,scaler.fit_transform(X),y,cv=loo)"
      ],
      "metadata": {
        "id": "ZC_p9QXz6mjB"
      },
      "execution_count": 31,
      "outputs": []
    },
    {
      "cell_type": "code",
      "source": [
        "scores"
      ],
      "metadata": {
        "id": "4U8E9Sth7xB6",
        "outputId": "72067866-3dcb-49c7-afda-a635d8f79998",
        "colab": {
          "base_uri": "https://localhost:8080/"
        }
      },
      "execution_count": 32,
      "outputs": [
        {
          "output_type": "execute_result",
          "data": {
            "text/plain": [
              "array([3.312874  , 3.54881274, 3.5007722 , 3.87851784, 3.64925976,\n",
              "       3.43497268, 3.39368016, 3.57768525, 3.63753625, 3.36950447,\n",
              "       3.21725632, 3.50949997, 3.35309056, 3.18437306, 3.53600654,\n",
              "       3.89971345, 3.17630368, 3.4008347 , 3.32961762, 3.27340443,\n",
              "       3.65424261, 3.35370045, 3.28998281, 3.49886969, 3.46308562,\n",
              "       3.71719844, 2.31421379, 3.37301484, 3.45795783, 3.41742936])"
            ]
          },
          "metadata": {},
          "execution_count": 32
        }
      ]
    },
    {
      "cell_type": "code",
      "source": [
        "from sklearn.metrics import mean_squared_error,mean_absolute_error\n",
        "print(\"Mean Squared Error:\",mean_squared_error(y,scores))\n",
        "print(\"Mean Absolute Error:\",mean_absolute_error(y,scores))"
      ],
      "metadata": {
        "colab": {
          "base_uri": "https://localhost:8080/"
        },
        "id": "CGv-I8Km6mgZ",
        "outputId": "a446a285-b770-4dd0-a370-2e0e5a8ecb5e"
      },
      "execution_count": 33,
      "outputs": [
        {
          "output_type": "stream",
          "name": "stdout",
          "text": [
            "Mean Squared Error: 0.09934530857996479\n",
            "Mean Absolute Error: 0.25833675817506957\n"
          ]
        }
      ]
    },
    {
      "cell_type": "code",
      "source": [],
      "metadata": {
        "id": "774bDTUn6mdp"
      },
      "execution_count": 33,
      "outputs": []
    },
    {
      "cell_type": "code",
      "source": [],
      "metadata": {
        "id": "75-GuYiS6ma6"
      },
      "execution_count": 33,
      "outputs": []
    }
  ],
  "metadata": {
    "colab": {
      "provenance": [],
      "collapsed_sections": [
        "qUWyrLHm5Xbj",
        "wNaKj4Jk5bqZ"
      ]
    },
    "kernelspec": {
      "display_name": "Python 3",
      "name": "python3"
    },
    "language_info": {
      "name": "python"
    }
  },
  "nbformat": 4,
  "nbformat_minor": 0
}