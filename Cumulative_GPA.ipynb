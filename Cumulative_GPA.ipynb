{
  "cells": [
    {
      "cell_type": "code",
      "execution_count": 1,
      "metadata": {
        "id": "ouPy1uGQb20C"
      },
      "outputs": [],
      "source": [
        "#Importing Libraries\n",
        "import numpy as np\n",
        "import pandas as pd\n",
        "import matplotlib.pyplot as plt\n",
        "import seaborn as sns2\n",
        "from sklearn.linear_model import LinearRegression\n",
        "import datetime"
      ]
    },
    {
      "cell_type": "code",
      "source": [
        "from scipy import stats"
      ],
      "metadata": {
        "id": "ro7BTlpC_zgs"
      },
      "execution_count": 2,
      "outputs": []
    },
    {
      "cell_type": "markdown",
      "source": [
        "Upload AllSlopes.csv file"
      ],
      "metadata": {
        "id": "m7Xsh5bxD1eW"
      }
    },
    {
      "cell_type": "code",
      "source": [
        "AllSlopes=pd.read_csv(\"/content/AllSlopes.csv\")\n",
        "AllSlopes.set_index('uids', inplace=True)"
      ],
      "metadata": {
        "id": "DQx8GWiuVYxq"
      },
      "execution_count": 83,
      "outputs": []
    },
    {
      "cell_type": "markdown",
      "source": [
        "##Using Lasso Regression"
      ],
      "metadata": {
        "id": "qUWyrLHm5Xbj"
      }
    },
    {
      "cell_type": "code",
      "source": [
        "columns=AllSlopes.columns.tolist()\n",
        "for i,column in enumerate(columns):\n",
        "  if i>1:\n",
        "    if(abs(AllSlopes['gpa_all'].corr(AllSlopes[column]))>0.25 and stats.ttest_ind(AllSlopes[column],AllSlopes['gpa_all']).pvalue<0.05):\n",
        "      print(\"Correlation: \"+str(column)+\":  \"+str(AllSlopes['gpa_all'].corr(AllSlopes[column])))\n",
        "      print(\"P_value: \"+str(column)+\":  \"+str(stats.ttest_ind(AllSlopes[column],AllSlopes['gpa_all']).pvalue))\n",
        "    else :\n",
        "      AllSlopes.drop(column,axis=1,inplace=True)"
      ],
      "metadata": {
        "id": "LmjAqqRNY-PW",
        "colab": {
          "base_uri": "https://localhost:8080/"
        },
        "outputId": "df5c12ff-68d4-4b28-ddd5-e619a49512f1"
      },
      "execution_count": 84,
      "outputs": [
        {
          "output_type": "stream",
          "name": "stdout",
          "text": [
            "Correlation: SlopeActivityTerm:  -0.4095291107019361\n",
            "P_value: SlopeActivityTerm:  6.232319088666543e-48\n",
            "Correlation: SlopeActivityDayTerm:  -0.2688440720314145\n",
            "P_value: SlopeActivityDayTerm:  6.232318808098362e-48\n",
            "Correlation: SlopeActivityNightTerm:  -0.45505517646732907\n",
            "P_value: SlopeActivityNightTerm:  6.232319556711036e-48\n",
            "Correlation: SlopeActivityEveningTerm:  -0.4020807645136174\n",
            "P_value: SlopeActivityEveningTerm:  6.232318767484614e-48\n",
            "Correlation: SlopeActivityTermPre:  0.4322581260520724\n",
            "P_value: SlopeActivityTermPre:  6.232318047570163e-48\n",
            "Correlation: SlopeActivityTermPost:  -0.46160056908097047\n",
            "P_value: SlopeActivityTermPost:  6.232319821654445e-48\n",
            "Correlation: SlopeActivityDayPre:  0.31634510313925684\n",
            "P_value: SlopeActivityDayPre:  6.232317523816218e-48\n",
            "Correlation: SlopeActivityDayPost:  -0.4303316429602895\n",
            "P_value: SlopeActivityDayPost:  6.232319719137783e-48\n",
            "Correlation: SlopeActivityNightPre:  0.5469084283339362\n",
            "P_value: SlopeActivityNightPre:  6.232318685665857e-48\n",
            "Correlation: SlopeActivityNightPost:  -0.4850436562285097\n",
            "P_value: SlopeActivityNightPost:  6.232320339056393e-48\n",
            "Correlation: SlopeActivityEveningPost:  -0.4183622094996633\n",
            "P_value: SlopeActivityEveningPost:  6.232319174447194e-48\n",
            "Correlation: SlopeAudioTermPost:  0.4323369508156832\n",
            "P_value: SlopeAudioTermPost:  6.232319210547135e-48\n",
            "Correlation: SlopeAudioNightPost:  0.32800729461969197\n",
            "P_value: SlopeAudioNightPost:  6.232319210547135e-48\n",
            "Correlation: SlopeAudioEveningPost:  0.43321181989302937\n",
            "P_value: SlopeAudioEveningPost:  6.232319210547135e-48\n",
            "Correlation: SlopeConDurTerm:  0.2657481582168436\n",
            "P_value: SlopeConDurTerm:  6.22926911302723e-48\n",
            "Correlation: SlopeConDurEveningTerm:  0.34803736206350055\n",
            "P_value: SlopeConDurEveningTerm:  6.23086027991417e-48\n",
            "Correlation: SlopeConDurTermPost:  0.3415479902391263\n",
            "P_value: SlopeConDurTermPost:  6.231659253894609e-48\n",
            "Correlation: SlopeConDurDayPost:  0.25846469507195285\n",
            "P_value: SlopeConDurDayPost:  6.228827352923771e-48\n",
            "Correlation: SlopeConDurNightPost:  0.2865354128594217\n",
            "P_value: SlopeConDurNightPost:  6.231244456292638e-48\n",
            "Correlation: SlopeConFreqEveningPre:  0.29141638758180344\n",
            "P_value: SlopeConFreqEveningPre:  2.0055409025207307e-44\n",
            "Correlation: SlopeMobilityEveningTerm:  0.4067140707938143\n",
            "P_value: SlopeMobilityEveningTerm:  6.232320875695358e-48\n",
            "Correlation: SlopeMobilityTermPre:  0.2897547246044598\n",
            "P_value: SlopeMobilityTermPre:  6.232319210547135e-48\n",
            "Correlation: SlopeMobilityEveningPre:  0.36911619472832896\n",
            "P_value: SlopeMobilityEveningPre:  6.232319947761605e-48\n",
            "Correlation: SlopeSleepTerm:  0.5173872500551344\n",
            "P_value: SlopeSleepTerm:  6.232319210547135e-48\n"
          ]
        }
      ]
    },
    {
      "cell_type": "code",
      "source": [
        "allSlopes = AllSlopes.fillna(10)\n",
        "X=allSlopes.drop(['gpa_all','Spring_gpa'],axis=1)\n",
        "y=allSlopes['gpa_all']"
      ],
      "metadata": {
        "id": "WtBUovMWVYxr"
      },
      "execution_count": 85,
      "outputs": []
    },
    {
      "cell_type": "code",
      "execution_count": 86,
      "metadata": {
        "id": "hwEldEdrpjb8"
      },
      "outputs": [],
      "source": [
        "from sklearn.model_selection import train_test_split\n",
        "from sklearn.linear_model import Lasso\n",
        "from sklearn.preprocessing import StandardScaler\n",
        "from sklearn.metrics import mean_squared_error\n",
        "from sklearn.metrics import mean_absolute_error"
      ]
    },
    {
      "cell_type": "code",
      "source": [
        "X_train, X_test, y_train, y_test = train_test_split(X, y, test_size=0.2, random_state=75)"
      ],
      "metadata": {
        "id": "hYqcerExVYxr"
      },
      "execution_count": 87,
      "outputs": []
    },
    {
      "cell_type": "code",
      "source": [
        "scaler = StandardScaler()\n",
        "X_train_scaled = scaler.fit_transform(X_train)\n",
        "X_test_scaled = scaler.transform(X_test)"
      ],
      "metadata": {
        "id": "Ao-hHpuiVYxs"
      },
      "execution_count": 88,
      "outputs": []
    },
    {
      "cell_type": "code",
      "source": [
        "# Lasso regression model\n",
        "lasso_model = Lasso(alpha=0.06)  # Set the regularization strength (alpha)\n",
        "0\n",
        "# Train the model\n",
        "lasso_model.fit(X_train_scaled, y_train)"
      ],
      "metadata": {
        "colab": {
          "base_uri": "https://localhost:8080/",
          "height": 74
        },
        "outputId": "acb2c714-7ccf-4014-aa2a-7121d004e679",
        "id": "89mXKsF5VYxs"
      },
      "execution_count": 89,
      "outputs": [
        {
          "output_type": "execute_result",
          "data": {
            "text/plain": [
              "Lasso(alpha=0.06)"
            ],
            "text/html": [
              "<style>#sk-container-id-11 {color: black;background-color: white;}#sk-container-id-11 pre{padding: 0;}#sk-container-id-11 div.sk-toggleable {background-color: white;}#sk-container-id-11 label.sk-toggleable__label {cursor: pointer;display: block;width: 100%;margin-bottom: 0;padding: 0.3em;box-sizing: border-box;text-align: center;}#sk-container-id-11 label.sk-toggleable__label-arrow:before {content: \"▸\";float: left;margin-right: 0.25em;color: #696969;}#sk-container-id-11 label.sk-toggleable__label-arrow:hover:before {color: black;}#sk-container-id-11 div.sk-estimator:hover label.sk-toggleable__label-arrow:before {color: black;}#sk-container-id-11 div.sk-toggleable__content {max-height: 0;max-width: 0;overflow: hidden;text-align: left;background-color: #f0f8ff;}#sk-container-id-11 div.sk-toggleable__content pre {margin: 0.2em;color: black;border-radius: 0.25em;background-color: #f0f8ff;}#sk-container-id-11 input.sk-toggleable__control:checked~div.sk-toggleable__content {max-height: 200px;max-width: 100%;overflow: auto;}#sk-container-id-11 input.sk-toggleable__control:checked~label.sk-toggleable__label-arrow:before {content: \"▾\";}#sk-container-id-11 div.sk-estimator input.sk-toggleable__control:checked~label.sk-toggleable__label {background-color: #d4ebff;}#sk-container-id-11 div.sk-label input.sk-toggleable__control:checked~label.sk-toggleable__label {background-color: #d4ebff;}#sk-container-id-11 input.sk-hidden--visually {border: 0;clip: rect(1px 1px 1px 1px);clip: rect(1px, 1px, 1px, 1px);height: 1px;margin: -1px;overflow: hidden;padding: 0;position: absolute;width: 1px;}#sk-container-id-11 div.sk-estimator {font-family: monospace;background-color: #f0f8ff;border: 1px dotted black;border-radius: 0.25em;box-sizing: border-box;margin-bottom: 0.5em;}#sk-container-id-11 div.sk-estimator:hover {background-color: #d4ebff;}#sk-container-id-11 div.sk-parallel-item::after {content: \"\";width: 100%;border-bottom: 1px solid gray;flex-grow: 1;}#sk-container-id-11 div.sk-label:hover label.sk-toggleable__label {background-color: #d4ebff;}#sk-container-id-11 div.sk-serial::before {content: \"\";position: absolute;border-left: 1px solid gray;box-sizing: border-box;top: 0;bottom: 0;left: 50%;z-index: 0;}#sk-container-id-11 div.sk-serial {display: flex;flex-direction: column;align-items: center;background-color: white;padding-right: 0.2em;padding-left: 0.2em;position: relative;}#sk-container-id-11 div.sk-item {position: relative;z-index: 1;}#sk-container-id-11 div.sk-parallel {display: flex;align-items: stretch;justify-content: center;background-color: white;position: relative;}#sk-container-id-11 div.sk-item::before, #sk-container-id-11 div.sk-parallel-item::before {content: \"\";position: absolute;border-left: 1px solid gray;box-sizing: border-box;top: 0;bottom: 0;left: 50%;z-index: -1;}#sk-container-id-11 div.sk-parallel-item {display: flex;flex-direction: column;z-index: 1;position: relative;background-color: white;}#sk-container-id-11 div.sk-parallel-item:first-child::after {align-self: flex-end;width: 50%;}#sk-container-id-11 div.sk-parallel-item:last-child::after {align-self: flex-start;width: 50%;}#sk-container-id-11 div.sk-parallel-item:only-child::after {width: 0;}#sk-container-id-11 div.sk-dashed-wrapped {border: 1px dashed gray;margin: 0 0.4em 0.5em 0.4em;box-sizing: border-box;padding-bottom: 0.4em;background-color: white;}#sk-container-id-11 div.sk-label label {font-family: monospace;font-weight: bold;display: inline-block;line-height: 1.2em;}#sk-container-id-11 div.sk-label-container {text-align: center;}#sk-container-id-11 div.sk-container {/* jupyter's `normalize.less` sets `[hidden] { display: none; }` but bootstrap.min.css set `[hidden] { display: none !important; }` so we also need the `!important` here to be able to override the default hidden behavior on the sphinx rendered scikit-learn.org. See: https://github.com/scikit-learn/scikit-learn/issues/21755 */display: inline-block !important;position: relative;}#sk-container-id-11 div.sk-text-repr-fallback {display: none;}</style><div id=\"sk-container-id-11\" class=\"sk-top-container\"><div class=\"sk-text-repr-fallback\"><pre>Lasso(alpha=0.06)</pre><b>In a Jupyter environment, please rerun this cell to show the HTML representation or trust the notebook. <br />On GitHub, the HTML representation is unable to render, please try loading this page with nbviewer.org.</b></div><div class=\"sk-container\" hidden><div class=\"sk-item\"><div class=\"sk-estimator sk-toggleable\"><input class=\"sk-toggleable__control sk-hidden--visually\" id=\"sk-estimator-id-11\" type=\"checkbox\" checked><label for=\"sk-estimator-id-11\" class=\"sk-toggleable__label sk-toggleable__label-arrow\">Lasso</label><div class=\"sk-toggleable__content\"><pre>Lasso(alpha=0.06)</pre></div></div></div></div></div>"
            ]
          },
          "metadata": {},
          "execution_count": 89
        }
      ]
    },
    {
      "cell_type": "code",
      "source": [
        "# Make predictions\n",
        "y_pred = lasso_model.predict(X_test_scaled)\n",
        "\n",
        "# Calculate Mean Squared Error (MSE) to evaluate the model\n",
        "mse = mean_squared_error(y_test, y_pred)\n",
        "print(\"Mean Squared Error:\", mse)\n",
        "\n",
        "mae = mean_absolute_error(y_test,y_pred)\n",
        "print(\"Mean Absolute Error:\", mae)\n",
        "\n",
        "# Print the coefficients of the features\n",
        "print(\"Coefficients:\", lasso_model.coef_)"
      ],
      "metadata": {
        "colab": {
          "base_uri": "https://localhost:8080/"
        },
        "outputId": "ffa3761b-d697-4d24-aa59-fcfdfe4af6f2",
        "id": "vRmqsmDeVYxs"
      },
      "execution_count": 90,
      "outputs": [
        {
          "output_type": "stream",
          "name": "stdout",
          "text": [
            "Mean Squared Error: 0.02905655339009992\n",
            "Mean Absolute Error: 0.14805637978055022\n",
            "Coefficients: [-0.         -0.         -0.         -0.          0.         -0.\n",
            "  0.         -0.          0.1017074  -0.         -0.          0.\n",
            "  0.01054246  0.06065104  0.          0.          0.          0.01127601\n",
            "  0.02784251  0.          0.03785311  0.          0.08248088  0.08942615]\n"
          ]
        }
      ]
    },
    {
      "cell_type": "code",
      "source": [
        "print(y_pred)\n",
        "print(y_test.tolist())"
      ],
      "metadata": {
        "colab": {
          "base_uri": "https://localhost:8080/"
        },
        "outputId": "ae2fc11a-7431-499f-9e95-368a5228905a",
        "id": "PCvPZSqBVYxs"
      },
      "execution_count": 91,
      "outputs": [
        {
          "output_type": "stream",
          "name": "stdout",
          "text": [
            "[3.86638087 3.83013687 3.56070856 3.40183908 3.47082468 3.51753748]\n",
            "[3.889, 3.679, 3.505, 3.652, 3.705, 3.343]\n"
          ]
        }
      ]
    },
    {
      "cell_type": "markdown",
      "source": [
        "## Using Ridge Regression"
      ],
      "metadata": {
        "id": "wNaKj4Jk5bqZ"
      }
    },
    {
      "cell_type": "code",
      "source": [
        "columns=AllSlopes.columns.tolist()\n",
        "for i,column in enumerate(columns):\n",
        "  if i>1:\n",
        "    if(abs(AllSlopes['gpa_all'].corr(AllSlopes[column]))>0.5 and stats.ttest_ind(AllSlopes[column],AllSlopes['gpa_all']).pvalue<0.05):\n",
        "      print(\"Correlation: \"+str(column)+\":  \"+str(AllSlopes['gpa_all'].corr(AllSlopes[column])))\n",
        "      print(\"P_value: \"+str(column)+\":  \"+str(stats.ttest_ind(AllSlopes[column],AllSlopes['gpa_all']).pvalue))\n",
        "    else :\n",
        "      AllSlopes.drop(column,axis=1,inplace=True)"
      ],
      "metadata": {
        "id": "96QRuNWke5Pl",
        "colab": {
          "base_uri": "https://localhost:8080/"
        },
        "outputId": "f77a53ea-0a3d-4154-a4ee-79661182e2df"
      },
      "execution_count": 64,
      "outputs": [
        {
          "output_type": "stream",
          "name": "stdout",
          "text": [
            "Correlation: SlopeActivityNightPre:  0.5469084283339362\n",
            "P_value: SlopeActivityNightPre:  6.232318685665857e-48\n",
            "Correlation: SlopeSleepTerm:  0.5173872500551344\n",
            "P_value: SlopeSleepTerm:  6.232319210547135e-48\n"
          ]
        }
      ]
    },
    {
      "cell_type": "code",
      "source": [
        "allSlopes = AllSlopes.fillna(10)\n",
        "X=allSlopes.drop(['gpa_all','Spring_gpa'],axis=1)\n",
        "y=allSlopes['gpa_all']"
      ],
      "metadata": {
        "id": "Jzu56X7Xe5M4"
      },
      "execution_count": 65,
      "outputs": []
    },
    {
      "cell_type": "code",
      "source": [
        "from sklearn.model_selection import train_test_split\n",
        "from sklearn.linear_model import Lasso\n",
        "from sklearn.preprocessing import StandardScaler\n",
        "from sklearn.metrics import mean_squared_error\n",
        "from sklearn.metrics import mean_absolute_error"
      ],
      "metadata": {
        "id": "W1veSuIBe5J-"
      },
      "execution_count": 66,
      "outputs": []
    },
    {
      "cell_type": "code",
      "source": [
        "X_train, X_test, y_train, y_test = train_test_split(X, y, test_size=0.2, random_state=75)"
      ],
      "metadata": {
        "id": "iabFcvpCe5HG"
      },
      "execution_count": 67,
      "outputs": []
    },
    {
      "cell_type": "code",
      "source": [
        "scaler = StandardScaler()\n",
        "X_train_scaled = scaler.fit_transform(X_train)\n",
        "X_test_scaled = scaler.transform(X_test)"
      ],
      "metadata": {
        "id": "KUVSjnSD7Oeu"
      },
      "execution_count": 68,
      "outputs": []
    },
    {
      "cell_type": "code",
      "source": [
        "from sklearn.linear_model import Ridge\n",
        "\n",
        "ridge_model = Ridge(alpha=0.1)  # Set the regularization strength (alpha)\n",
        "# Train the model\n",
        "ridge_model.fit(X_train_scaled, y_train)"
      ],
      "metadata": {
        "colab": {
          "base_uri": "https://localhost:8080/",
          "height": 74
        },
        "id": "766B81rn6mn5",
        "outputId": "3ad10566-b2b3-4c5a-92d8-be7ed2ffbd14"
      },
      "execution_count": 69,
      "outputs": [
        {
          "output_type": "execute_result",
          "data": {
            "text/plain": [
              "Ridge(alpha=0.1)"
            ],
            "text/html": [
              "<style>#sk-container-id-9 {color: black;background-color: white;}#sk-container-id-9 pre{padding: 0;}#sk-container-id-9 div.sk-toggleable {background-color: white;}#sk-container-id-9 label.sk-toggleable__label {cursor: pointer;display: block;width: 100%;margin-bottom: 0;padding: 0.3em;box-sizing: border-box;text-align: center;}#sk-container-id-9 label.sk-toggleable__label-arrow:before {content: \"▸\";float: left;margin-right: 0.25em;color: #696969;}#sk-container-id-9 label.sk-toggleable__label-arrow:hover:before {color: black;}#sk-container-id-9 div.sk-estimator:hover label.sk-toggleable__label-arrow:before {color: black;}#sk-container-id-9 div.sk-toggleable__content {max-height: 0;max-width: 0;overflow: hidden;text-align: left;background-color: #f0f8ff;}#sk-container-id-9 div.sk-toggleable__content pre {margin: 0.2em;color: black;border-radius: 0.25em;background-color: #f0f8ff;}#sk-container-id-9 input.sk-toggleable__control:checked~div.sk-toggleable__content {max-height: 200px;max-width: 100%;overflow: auto;}#sk-container-id-9 input.sk-toggleable__control:checked~label.sk-toggleable__label-arrow:before {content: \"▾\";}#sk-container-id-9 div.sk-estimator input.sk-toggleable__control:checked~label.sk-toggleable__label {background-color: #d4ebff;}#sk-container-id-9 div.sk-label input.sk-toggleable__control:checked~label.sk-toggleable__label {background-color: #d4ebff;}#sk-container-id-9 input.sk-hidden--visually {border: 0;clip: rect(1px 1px 1px 1px);clip: rect(1px, 1px, 1px, 1px);height: 1px;margin: -1px;overflow: hidden;padding: 0;position: absolute;width: 1px;}#sk-container-id-9 div.sk-estimator {font-family: monospace;background-color: #f0f8ff;border: 1px dotted black;border-radius: 0.25em;box-sizing: border-box;margin-bottom: 0.5em;}#sk-container-id-9 div.sk-estimator:hover {background-color: #d4ebff;}#sk-container-id-9 div.sk-parallel-item::after {content: \"\";width: 100%;border-bottom: 1px solid gray;flex-grow: 1;}#sk-container-id-9 div.sk-label:hover label.sk-toggleable__label {background-color: #d4ebff;}#sk-container-id-9 div.sk-serial::before {content: \"\";position: absolute;border-left: 1px solid gray;box-sizing: border-box;top: 0;bottom: 0;left: 50%;z-index: 0;}#sk-container-id-9 div.sk-serial {display: flex;flex-direction: column;align-items: center;background-color: white;padding-right: 0.2em;padding-left: 0.2em;position: relative;}#sk-container-id-9 div.sk-item {position: relative;z-index: 1;}#sk-container-id-9 div.sk-parallel {display: flex;align-items: stretch;justify-content: center;background-color: white;position: relative;}#sk-container-id-9 div.sk-item::before, #sk-container-id-9 div.sk-parallel-item::before {content: \"\";position: absolute;border-left: 1px solid gray;box-sizing: border-box;top: 0;bottom: 0;left: 50%;z-index: -1;}#sk-container-id-9 div.sk-parallel-item {display: flex;flex-direction: column;z-index: 1;position: relative;background-color: white;}#sk-container-id-9 div.sk-parallel-item:first-child::after {align-self: flex-end;width: 50%;}#sk-container-id-9 div.sk-parallel-item:last-child::after {align-self: flex-start;width: 50%;}#sk-container-id-9 div.sk-parallel-item:only-child::after {width: 0;}#sk-container-id-9 div.sk-dashed-wrapped {border: 1px dashed gray;margin: 0 0.4em 0.5em 0.4em;box-sizing: border-box;padding-bottom: 0.4em;background-color: white;}#sk-container-id-9 div.sk-label label {font-family: monospace;font-weight: bold;display: inline-block;line-height: 1.2em;}#sk-container-id-9 div.sk-label-container {text-align: center;}#sk-container-id-9 div.sk-container {/* jupyter's `normalize.less` sets `[hidden] { display: none; }` but bootstrap.min.css set `[hidden] { display: none !important; }` so we also need the `!important` here to be able to override the default hidden behavior on the sphinx rendered scikit-learn.org. See: https://github.com/scikit-learn/scikit-learn/issues/21755 */display: inline-block !important;position: relative;}#sk-container-id-9 div.sk-text-repr-fallback {display: none;}</style><div id=\"sk-container-id-9\" class=\"sk-top-container\"><div class=\"sk-text-repr-fallback\"><pre>Ridge(alpha=0.1)</pre><b>In a Jupyter environment, please rerun this cell to show the HTML representation or trust the notebook. <br />On GitHub, the HTML representation is unable to render, please try loading this page with nbviewer.org.</b></div><div class=\"sk-container\" hidden><div class=\"sk-item\"><div class=\"sk-estimator sk-toggleable\"><input class=\"sk-toggleable__control sk-hidden--visually\" id=\"sk-estimator-id-9\" type=\"checkbox\" checked><label for=\"sk-estimator-id-9\" class=\"sk-toggleable__label sk-toggleable__label-arrow\">Ridge</label><div class=\"sk-toggleable__content\"><pre>Ridge(alpha=0.1)</pre></div></div></div></div></div>"
            ]
          },
          "metadata": {},
          "execution_count": 69
        }
      ]
    },
    {
      "cell_type": "code",
      "source": [
        "# Make predictions\n",
        "y_pred = ridge_model.predict(X_test_scaled)\n",
        "\n",
        "# Calculate Mean Squared Error (MSE) to evaluate the model\n",
        "mse = mean_squared_error(y_test, y_pred)\n",
        "print(\"Mean Squared Error:\", mse)\n",
        "\n",
        "mae = mean_absolute_error(y_test,y_pred)\n",
        "print(\"Mean Absolute Error:\", mae)\n",
        "\n",
        "# Print the coefficients of the features\n",
        "print(\"Coefficients:\", ridge_model.coef_)"
      ],
      "metadata": {
        "colab": {
          "base_uri": "https://localhost:8080/"
        },
        "id": "3En-jpsV6mlx",
        "outputId": "eb0ca828-f8a6-4e94-f3fd-0781524a6008"
      },
      "execution_count": 70,
      "outputs": [
        {
          "output_type": "stream",
          "name": "stdout",
          "text": [
            "Mean Squared Error: 0.04973007722392376\n",
            "Mean Absolute Error: 0.18439329342286412\n",
            "Coefficients: [0.16994413 0.17578868]\n"
          ]
        }
      ]
    },
    {
      "cell_type": "markdown",
      "source": [
        "Cross Validation"
      ],
      "metadata": {
        "id": "cz0A5SvH6yaq"
      }
    },
    {
      "cell_type": "code",
      "source": [
        "from sklearn.model_selection import cross_val_predict, LeaveOneOut , KFold\n",
        "loo = LeaveOneOut()\n",
        "kf=KFold(n_splits=5,shuffle=True,random_state=1)\n",
        "scores=cross_val_predict(ridge_model,scaler.fit_transform(X),y,cv=loo)"
      ],
      "metadata": {
        "id": "ZC_p9QXz6mjB"
      },
      "execution_count": 71,
      "outputs": []
    },
    {
      "cell_type": "code",
      "source": [
        "scores"
      ],
      "metadata": {
        "id": "4U8E9Sth7xB6",
        "outputId": "8cfb4a12-75ea-49b3-8080-dcb62f74d9c8",
        "colab": {
          "base_uri": "https://localhost:8080/"
        }
      },
      "execution_count": 72,
      "outputs": [
        {
          "output_type": "execute_result",
          "data": {
            "text/plain": [
              "array([3.312874  , 3.54881274, 3.5007722 , 3.87851784, 3.64925976,\n",
              "       3.43497268, 3.39368016, 3.57768525, 3.63753625, 3.36950447,\n",
              "       3.21725632, 3.50949997, 3.35309056, 3.18437306, 3.53600654,\n",
              "       3.89971345, 3.17630368, 3.4008347 , 3.32961762, 3.27340443,\n",
              "       3.65424261, 3.35370045, 3.28998281, 3.49886969, 3.46308562,\n",
              "       3.71719844, 2.31421379, 3.37301484, 3.45795783, 3.41742936])"
            ]
          },
          "metadata": {},
          "execution_count": 72
        }
      ]
    },
    {
      "cell_type": "code",
      "source": [
        "from sklearn.metrics import mean_squared_error,mean_absolute_error\n",
        "print(\"Mean Squared Error:\",mean_squared_error(y,scores))\n",
        "print(\"Mean Absolute Error:\",mean_absolute_error(y,scores))"
      ],
      "metadata": {
        "colab": {
          "base_uri": "https://localhost:8080/"
        },
        "id": "CGv-I8Km6mgZ",
        "outputId": "570a4f3c-db88-4783-88be-230ced104e17"
      },
      "execution_count": 74,
      "outputs": [
        {
          "output_type": "stream",
          "name": "stdout",
          "text": [
            "Mean Squared Error: 0.09934530857996479\n",
            "Mean Absolute Error: 0.25833675817506957\n"
          ]
        }
      ]
    },
    {
      "cell_type": "code",
      "source": [],
      "metadata": {
        "id": "774bDTUn6mdp"
      },
      "execution_count": 42,
      "outputs": []
    },
    {
      "cell_type": "code",
      "source": [],
      "metadata": {
        "id": "75-GuYiS6ma6"
      },
      "execution_count": 42,
      "outputs": []
    }
  ],
  "metadata": {
    "colab": {
      "provenance": [],
      "collapsed_sections": [
        "qUWyrLHm5Xbj",
        "wNaKj4Jk5bqZ"
      ]
    },
    "kernelspec": {
      "display_name": "Python 3",
      "name": "python3"
    },
    "language_info": {
      "name": "python"
    }
  },
  "nbformat": 4,
  "nbformat_minor": 0
}